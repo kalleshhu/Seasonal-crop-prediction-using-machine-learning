{
 "cells": [
  {
   "cell_type": "code",
   "execution_count": 1,
   "id": "e1a3ba54",
   "metadata": {},
   "outputs": [],
   "source": [
    "#Import Necessary Libraries"
   ]
  },
  {
   "cell_type": "code",
   "execution_count": 2,
   "id": "8cd32b6f",
   "metadata": {},
   "outputs": [],
   "source": [
    "import pandas as pd\n",
    "import numpy as np\n",
    "import matplotlib.pyplot as plt\n",
    "import sklearn"
   ]
  },
  {
   "cell_type": "code",
   "execution_count": 3,
   "id": "fdad1fdc",
   "metadata": {},
   "outputs": [],
   "source": [
    "#Read The dataset using pandas"
   ]
  },
  {
   "cell_type": "code",
   "execution_count": 4,
   "id": "5d1c653e",
   "metadata": {},
   "outputs": [],
   "source": [
    "dataset=pd.read_csv(\"crop_yield.csv\")"
   ]
  },
  {
   "cell_type": "code",
   "execution_count": 5,
   "id": "59403c51",
   "metadata": {},
   "outputs": [
    {
     "data": {
      "text/html": [
       "<div>\n",
       "<style scoped>\n",
       "    .dataframe tbody tr th:only-of-type {\n",
       "        vertical-align: middle;\n",
       "    }\n",
       "\n",
       "    .dataframe tbody tr th {\n",
       "        vertical-align: top;\n",
       "    }\n",
       "\n",
       "    .dataframe thead th {\n",
       "        text-align: right;\n",
       "    }\n",
       "</style>\n",
       "<table border=\"1\" class=\"dataframe\">\n",
       "  <thead>\n",
       "    <tr style=\"text-align: right;\">\n",
       "      <th></th>\n",
       "      <th>State_Name</th>\n",
       "      <th>District_Name</th>\n",
       "      <th>Crop_Year</th>\n",
       "      <th>Season</th>\n",
       "      <th>Crop</th>\n",
       "      <th>Area</th>\n",
       "      <th>Production</th>\n",
       "    </tr>\n",
       "  </thead>\n",
       "  <tbody>\n",
       "    <tr>\n",
       "      <th>0</th>\n",
       "      <td>Tamil Nadu</td>\n",
       "      <td>ARIYALUR</td>\n",
       "      <td>2008</td>\n",
       "      <td>Kharif</td>\n",
       "      <td>Rice</td>\n",
       "      <td>24574</td>\n",
       "      <td>NaN</td>\n",
       "    </tr>\n",
       "    <tr>\n",
       "      <th>1</th>\n",
       "      <td>Tamil Nadu</td>\n",
       "      <td>ARIYALUR</td>\n",
       "      <td>2008</td>\n",
       "      <td>Whole Year</td>\n",
       "      <td>Arhar/Tur</td>\n",
       "      <td>209</td>\n",
       "      <td>NaN</td>\n",
       "    </tr>\n",
       "    <tr>\n",
       "      <th>2</th>\n",
       "      <td>Tamil Nadu</td>\n",
       "      <td>ARIYALUR</td>\n",
       "      <td>2008</td>\n",
       "      <td>Whole Year</td>\n",
       "      <td>Bajra</td>\n",
       "      <td>565</td>\n",
       "      <td>NaN</td>\n",
       "    </tr>\n",
       "    <tr>\n",
       "      <th>3</th>\n",
       "      <td>Tamil Nadu</td>\n",
       "      <td>ARIYALUR</td>\n",
       "      <td>2008</td>\n",
       "      <td>Whole Year</td>\n",
       "      <td>Banana</td>\n",
       "      <td>190</td>\n",
       "      <td>NaN</td>\n",
       "    </tr>\n",
       "    <tr>\n",
       "      <th>4</th>\n",
       "      <td>Tamil Nadu</td>\n",
       "      <td>ARIYALUR</td>\n",
       "      <td>2008</td>\n",
       "      <td>Whole Year</td>\n",
       "      <td>Cashewnut</td>\n",
       "      <td>31113</td>\n",
       "      <td>NaN</td>\n",
       "    </tr>\n",
       "    <tr>\n",
       "      <th>...</th>\n",
       "      <td>...</td>\n",
       "      <td>...</td>\n",
       "      <td>...</td>\n",
       "      <td>...</td>\n",
       "      <td>...</td>\n",
       "      <td>...</td>\n",
       "      <td>...</td>\n",
       "    </tr>\n",
       "    <tr>\n",
       "      <th>13542</th>\n",
       "      <td>Tamil Nadu</td>\n",
       "      <td>VIRUDHUNAGAR</td>\n",
       "      <td>2013</td>\n",
       "      <td>Whole Year</td>\n",
       "      <td>Small millets</td>\n",
       "      <td>1187</td>\n",
       "      <td>676.0</td>\n",
       "    </tr>\n",
       "    <tr>\n",
       "      <th>13543</th>\n",
       "      <td>Tamil Nadu</td>\n",
       "      <td>VIRUDHUNAGAR</td>\n",
       "      <td>2013</td>\n",
       "      <td>Whole Year</td>\n",
       "      <td>Sugarcane</td>\n",
       "      <td>2917</td>\n",
       "      <td>296017.0</td>\n",
       "    </tr>\n",
       "    <tr>\n",
       "      <th>13544</th>\n",
       "      <td>Tamil Nadu</td>\n",
       "      <td>VIRUDHUNAGAR</td>\n",
       "      <td>2013</td>\n",
       "      <td>Whole Year</td>\n",
       "      <td>Sweet potato</td>\n",
       "      <td>4</td>\n",
       "      <td>84.0</td>\n",
       "    </tr>\n",
       "    <tr>\n",
       "      <th>13545</th>\n",
       "      <td>Tamil Nadu</td>\n",
       "      <td>VIRUDHUNAGAR</td>\n",
       "      <td>2013</td>\n",
       "      <td>Whole Year</td>\n",
       "      <td>Tapioca</td>\n",
       "      <td>4</td>\n",
       "      <td>120.0</td>\n",
       "    </tr>\n",
       "    <tr>\n",
       "      <th>13546</th>\n",
       "      <td>Tamil Nadu</td>\n",
       "      <td>VIRUDHUNAGAR</td>\n",
       "      <td>2013</td>\n",
       "      <td>Whole Year</td>\n",
       "      <td>Turmeric</td>\n",
       "      <td>4</td>\n",
       "      <td>15.0</td>\n",
       "    </tr>\n",
       "  </tbody>\n",
       "</table>\n",
       "<p>13547 rows × 7 columns</p>\n",
       "</div>"
      ],
      "text/plain": [
       "       State_Name District_Name  Crop_Year       Season           Crop   Area  \\\n",
       "0      Tamil Nadu      ARIYALUR       2008  Kharif                Rice  24574   \n",
       "1      Tamil Nadu      ARIYALUR       2008  Whole Year       Arhar/Tur    209   \n",
       "2      Tamil Nadu      ARIYALUR       2008  Whole Year           Bajra    565   \n",
       "3      Tamil Nadu      ARIYALUR       2008  Whole Year          Banana    190   \n",
       "4      Tamil Nadu      ARIYALUR       2008  Whole Year       Cashewnut  31113   \n",
       "...           ...           ...        ...          ...            ...    ...   \n",
       "13542  Tamil Nadu  VIRUDHUNAGAR       2013  Whole Year   Small millets   1187   \n",
       "13543  Tamil Nadu  VIRUDHUNAGAR       2013  Whole Year       Sugarcane   2917   \n",
       "13544  Tamil Nadu  VIRUDHUNAGAR       2013  Whole Year    Sweet potato      4   \n",
       "13545  Tamil Nadu  VIRUDHUNAGAR       2013  Whole Year         Tapioca      4   \n",
       "13546  Tamil Nadu  VIRUDHUNAGAR       2013  Whole Year        Turmeric      4   \n",
       "\n",
       "       Production  \n",
       "0             NaN  \n",
       "1             NaN  \n",
       "2             NaN  \n",
       "3             NaN  \n",
       "4             NaN  \n",
       "...           ...  \n",
       "13542       676.0  \n",
       "13543    296017.0  \n",
       "13544        84.0  \n",
       "13545       120.0  \n",
       "13546        15.0  \n",
       "\n",
       "[13547 rows x 7 columns]"
      ]
     },
     "execution_count": 5,
     "metadata": {},
     "output_type": "execute_result"
    }
   ],
   "source": [
    "dataset"
   ]
  },
  {
   "cell_type": "code",
   "execution_count": 6,
   "id": "c65c165c",
   "metadata": {},
   "outputs": [
    {
     "data": {
      "text/html": [
       "<div>\n",
       "<style scoped>\n",
       "    .dataframe tbody tr th:only-of-type {\n",
       "        vertical-align: middle;\n",
       "    }\n",
       "\n",
       "    .dataframe tbody tr th {\n",
       "        vertical-align: top;\n",
       "    }\n",
       "\n",
       "    .dataframe thead th {\n",
       "        text-align: right;\n",
       "    }\n",
       "</style>\n",
       "<table border=\"1\" class=\"dataframe\">\n",
       "  <thead>\n",
       "    <tr style=\"text-align: right;\">\n",
       "      <th></th>\n",
       "      <th>Crop_Year</th>\n",
       "      <th>Area</th>\n",
       "      <th>Production</th>\n",
       "    </tr>\n",
       "  </thead>\n",
       "  <tbody>\n",
       "    <tr>\n",
       "      <th>count</th>\n",
       "      <td>13547.000000</td>\n",
       "      <td>13547.000000</td>\n",
       "      <td>1.326600e+04</td>\n",
       "    </tr>\n",
       "    <tr>\n",
       "      <th>mean</th>\n",
       "      <td>2004.877537</td>\n",
       "      <td>7078.900642</td>\n",
       "      <td>9.103304e+05</td>\n",
       "    </tr>\n",
       "    <tr>\n",
       "      <th>std</th>\n",
       "      <td>4.714027</td>\n",
       "      <td>20874.776934</td>\n",
       "      <td>2.108750e+07</td>\n",
       "    </tr>\n",
       "    <tr>\n",
       "      <th>min</th>\n",
       "      <td>1997.000000</td>\n",
       "      <td>1.000000</td>\n",
       "      <td>0.000000e+00</td>\n",
       "    </tr>\n",
       "    <tr>\n",
       "      <th>25%</th>\n",
       "      <td>2002.000000</td>\n",
       "      <td>48.500000</td>\n",
       "      <td>5.700000e+01</td>\n",
       "    </tr>\n",
       "    <tr>\n",
       "      <th>50%</th>\n",
       "      <td>2004.000000</td>\n",
       "      <td>624.000000</td>\n",
       "      <td>8.410000e+02</td>\n",
       "    </tr>\n",
       "    <tr>\n",
       "      <th>75%</th>\n",
       "      <td>2009.000000</td>\n",
       "      <td>4472.500000</td>\n",
       "      <td>9.067250e+03</td>\n",
       "    </tr>\n",
       "    <tr>\n",
       "      <th>max</th>\n",
       "      <td>2013.000000</td>\n",
       "      <td>367554.000000</td>\n",
       "      <td>1.250800e+09</td>\n",
       "    </tr>\n",
       "  </tbody>\n",
       "</table>\n",
       "</div>"
      ],
      "text/plain": [
       "          Crop_Year           Area    Production\n",
       "count  13547.000000   13547.000000  1.326600e+04\n",
       "mean    2004.877537    7078.900642  9.103304e+05\n",
       "std        4.714027   20874.776934  2.108750e+07\n",
       "min     1997.000000       1.000000  0.000000e+00\n",
       "25%     2002.000000      48.500000  5.700000e+01\n",
       "50%     2004.000000     624.000000  8.410000e+02\n",
       "75%     2009.000000    4472.500000  9.067250e+03\n",
       "max     2013.000000  367554.000000  1.250800e+09"
      ]
     },
     "execution_count": 6,
     "metadata": {},
     "output_type": "execute_result"
    }
   ],
   "source": [
    "dataset.describe()"
   ]
  },
  {
   "cell_type": "code",
   "execution_count": 7,
   "id": "c9eba8fc",
   "metadata": {},
   "outputs": [],
   "source": [
    "#Checking for the null values in the dataset"
   ]
  },
  {
   "cell_type": "code",
   "execution_count": 8,
   "id": "43497c4f",
   "metadata": {},
   "outputs": [
    {
     "data": {
      "text/plain": [
       "State_Name         0\n",
       "District_Name      0\n",
       "Crop_Year          0\n",
       "Season             0\n",
       "Crop               0\n",
       "Area               0\n",
       "Production       281\n",
       "dtype: int64"
      ]
     },
     "execution_count": 8,
     "metadata": {},
     "output_type": "execute_result"
    }
   ],
   "source": [
    "dataset.isnull().sum()"
   ]
  },
  {
   "cell_type": "code",
   "execution_count": 9,
   "id": "c9e65206",
   "metadata": {},
   "outputs": [],
   "source": [
    "#Removing the null values"
   ]
  },
  {
   "cell_type": "code",
   "execution_count": 10,
   "id": "68e14fa2",
   "metadata": {},
   "outputs": [],
   "source": [
    "dataset.dropna(inplace=True)"
   ]
  },
  {
   "cell_type": "code",
   "execution_count": 11,
   "id": "5ac86d06",
   "metadata": {},
   "outputs": [
    {
     "data": {
      "text/plain": [
       "State_Name       0\n",
       "District_Name    0\n",
       "Crop_Year        0\n",
       "Season           0\n",
       "Crop             0\n",
       "Area             0\n",
       "Production       0\n",
       "dtype: int64"
      ]
     },
     "execution_count": 11,
     "metadata": {},
     "output_type": "execute_result"
    }
   ],
   "source": [
    "dataset.isnull().sum()"
   ]
  },
  {
   "cell_type": "code",
   "execution_count": 12,
   "id": "09ffb449",
   "metadata": {},
   "outputs": [],
   "source": [
    "#Converting Categorical Data into Numerical Data"
   ]
  },
  {
   "cell_type": "code",
   "execution_count": 13,
   "id": "f93c7c60",
   "metadata": {},
   "outputs": [
    {
     "data": {
      "text/plain": [
       "array(['Rice', 'Small millets', 'Arhar/Tur', 'Bajra', 'Banana',\n",
       "       'Cashewnut', 'Castor seed', 'Coconut ', 'Coriander',\n",
       "       'Cotton(lint)', 'Dry chillies', 'Groundnut', 'Jowar', 'Maize',\n",
       "       'Moong(Green Gram)', 'Onion', 'Ragi', 'Sesamum', 'Sugarcane',\n",
       "       'Sunflower', 'Sweet potato', 'Tapioca', 'Turmeric', 'Urad',\n",
       "       'Horse-gram', 'Tobacco', 'Black pepper', 'Cardamom', 'Gram',\n",
       "       'Pulses total', 'Total foodgrain', 'Wheat', 'Sannhamp', 'Korra',\n",
       "       'Samai', 'Guar seed', 'Other Cereals & Millets',\n",
       "       'Other Kharif pulses', 'Rapeseed &Mustard', 'Varagu', 'Ash Gourd',\n",
       "       'Beans & Mutter(Vegetable)', 'Beet Root', 'Bhindi', 'Bitter Gourd',\n",
       "       'Bottle Gourd', 'Brinjal', 'Cauliflower', 'Citrus Fruit',\n",
       "       'Cucumber', 'Drum Stick', 'Garlic', 'Grapes', 'Jack Fruit',\n",
       "       'Lab-Lab', 'Mango', 'Orange', 'Other Citrus Fruit',\n",
       "       'Other Fresh Fruits', 'Other Vegetables', 'Papaya', 'Pome Fruit',\n",
       "       'Pome Granet', 'Redish', 'Ribed Guard', 'Snak Guard', 'Tomato',\n",
       "       'Water Melon', 'Yam', 'Cabbage', 'Pump Kin', 'Dry ginger',\n",
       "       'Arecanut', 'Potato', 'Carrot', 'Pineapple', 'Mesta', 'Apple',\n",
       "       'Peach', 'Pear', 'Plums', 'Turnip', 'Litchi', 'Ber'], dtype=object)"
      ]
     },
     "execution_count": 13,
     "metadata": {},
     "output_type": "execute_result"
    }
   ],
   "source": [
    "dataset['Crop'].unique()"
   ]
  },
  {
   "cell_type": "code",
   "execution_count": 14,
   "id": "20c7c297",
   "metadata": {},
   "outputs": [],
   "source": [
    "import matplotlib.pyplot as plt\n"
   ]
  },
  {
   "cell_type": "code",
   "execution_count": 15,
   "id": "357cf68a",
   "metadata": {},
   "outputs": [
    {
     "data": {
      "text/plain": [
       "(array([ 792., 1034., 1329., 1507., 1831., 2191., 2243., 1534.,  634.,\n",
       "         171.]),\n",
       " array([ 0.        ,  1.28146255,  2.56292511,  3.84438766,  5.12585021,\n",
       "         6.40731276,  7.68877532,  8.97023787, 10.25170042, 11.53316297,\n",
       "        12.81462553]),\n",
       " <BarContainer object of 10 artists>)"
      ]
     },
     "execution_count": 15,
     "metadata": {},
     "output_type": "execute_result"
    },
    {
     "data": {
      "image/png": "[encoded data removed]",
      "text/plain": [
       "<Figure size 640x480 with 2 Axes>"
      ]
     },
     "metadata": {},
     "output_type": "display_data"
    }
   ],
   "source": [
    "fig, axs = plt.subplots(nrows=1, ncols=2)\n",
    "axs[0].hist(dataset['Area'], edgecolor='black')\n",
    "data_log = np.log(dataset['Area'])\n",
    "axs[1].hist(data_log, edgecolor='black')\n",
    "\n",
    "\n",
    "\n"
   ]
  },
  {
   "cell_type": "code",
   "execution_count": 16,
   "id": "b268efb1",
   "metadata": {},
   "outputs": [
    {
     "data": {
      "text/plain": [
       "array(['Kharif     ', 'Whole Year ', 'Rabi       '], dtype=object)"
      ]
     },
     "execution_count": 16,
     "metadata": {},
     "output_type": "execute_result"
    }
   ],
   "source": [
    "dataset['Season'].unique()"
   ]
  },
  {
   "cell_type": "code",
   "execution_count": 17,
   "id": "7ab0abd9",
   "metadata": {},
   "outputs": [
    {
     "data": {
      "text/plain": [
       "array(['ARIYALUR', 'COIMBATORE', 'CUDDALORE', 'DHARMAPURI', 'DINDIGUL',\n",
       "       'ERODE', 'KANCHIPURAM', 'KANNIYAKUMARI', 'KARUR', 'KRISHNAGIRI',\n",
       "       'MADURAI', 'NAGAPATTINAM', 'NAMAKKAL', 'PERAMBALUR', 'PUDUKKOTTAI',\n",
       "       'RAMANATHAPURAM', 'SALEM', 'SIVAGANGA', 'THANJAVUR',\n",
       "       'THE NILGIRIS', 'THENI', 'THIRUVALLUR', 'THIRUVARUR',\n",
       "       'TIRUCHIRAPPALLI', 'TIRUNELVELI', 'TIRUPPUR', 'TIRUVANNAMALAI',\n",
       "       'TUTICORIN', 'VELLORE', 'VILLUPURAM', 'VIRUDHUNAGAR'], dtype=object)"
      ]
     },
     "execution_count": 17,
     "metadata": {},
     "output_type": "execute_result"
    }
   ],
   "source": [
    "dataset['District_Name'].unique()"
   ]
  },
  {
   "cell_type": "code",
   "execution_count": 18,
   "id": "b2bd8df6",
   "metadata": {},
   "outputs": [
    {
     "name": "stdout",
     "output_type": "stream",
     "text": [
      "       State_Name  Crop_Year       Season           Crop   Area  Production  \\\n",
      "22     Tamil Nadu       2009  Kharif                Rice  25978     80462.0   \n",
      "23     Tamil Nadu       2009  Kharif       Small millets    404       649.0   \n",
      "24     Tamil Nadu       2009  Whole Year       Arhar/Tur    160       122.0   \n",
      "25     Tamil Nadu       2009  Whole Year           Bajra    644      1082.0   \n",
      "26     Tamil Nadu       2009  Whole Year          Banana    134      5761.0   \n",
      "...           ...        ...          ...            ...    ...         ...   \n",
      "13542  Tamil Nadu       2013  Whole Year   Small millets   1187       676.0   \n",
      "13543  Tamil Nadu       2013  Whole Year       Sugarcane   2917    296017.0   \n",
      "13544  Tamil Nadu       2013  Whole Year    Sweet potato      4        84.0   \n",
      "13545  Tamil Nadu       2013  Whole Year         Tapioca      4       120.0   \n",
      "13546  Tamil Nadu       2013  Whole Year        Turmeric      4        15.0   \n",
      "\n",
      "       District_Name_ARIYALUR  District_Name_COIMBATORE  \\\n",
      "22                       True                     False   \n",
      "23                       True                     False   \n",
      "24                       True                     False   \n",
      "25                       True                     False   \n",
      "26                       True                     False   \n",
      "...                       ...                       ...   \n",
      "13542                   False                     False   \n",
      "13543                   False                     False   \n",
      "13544                   False                     False   \n",
      "13545                   False                     False   \n",
      "13546                   False                     False   \n",
      "\n",
      "       District_Name_CUDDALORE  District_Name_DHARMAPURI  ...  \\\n",
      "22                       False                     False  ...   \n",
      "23                       False                     False  ...   \n",
      "24                       False                     False  ...   \n",
      "25                       False                     False  ...   \n",
      "26                       False                     False  ...   \n",
      "...                        ...                       ...  ...   \n",
      "13542                    False                     False  ...   \n",
      "13543                    False                     False  ...   \n",
      "13544                    False                     False  ...   \n",
      "13545                    False                     False  ...   \n",
      "13546                    False                     False  ...   \n",
      "\n",
      "       District_Name_THIRUVALLUR  District_Name_THIRUVARUR  \\\n",
      "22                         False                     False   \n",
      "23                         False                     False   \n",
      "24                         False                     False   \n",
      "25                         False                     False   \n",
      "26                         False                     False   \n",
      "...                          ...                       ...   \n",
      "13542                      False                     False   \n",
      "13543                      False                     False   \n",
      "13544                      False                     False   \n",
      "13545                      False                     False   \n",
      "13546                      False                     False   \n",
      "\n",
      "       District_Name_TIRUCHIRAPPALLI  District_Name_TIRUNELVELI  \\\n",
      "22                             False                      False   \n",
      "23                             False                      False   \n",
      "24                             False                      False   \n",
      "25                             False                      False   \n",
      "26                             False                      False   \n",
      "...                              ...                        ...   \n",
      "13542                          False                      False   \n",
      "13543                          False                      False   \n",
      "13544                          False                      False   \n",
      "13545                          False                      False   \n",
      "13546                          False                      False   \n",
      "\n",
      "       District_Name_TIRUPPUR  District_Name_TIRUVANNAMALAI  \\\n",
      "22                      False                         False   \n",
      "23                      False                         False   \n",
      "24                      False                         False   \n",
      "25                      False                         False   \n",
      "26                      False                         False   \n",
      "...                       ...                           ...   \n",
      "13542                   False                         False   \n",
      "13543                   False                         False   \n",
      "13544                   False                         False   \n",
      "13545                   False                         False   \n",
      "13546                   False                         False   \n",
      "\n",
      "       District_Name_TUTICORIN  District_Name_VELLORE  \\\n",
      "22                       False                  False   \n",
      "23                       False                  False   \n",
      "24                       False                  False   \n",
      "25                       False                  False   \n",
      "26                       False                  False   \n",
      "...                        ...                    ...   \n",
      "13542                    False                  False   \n",
      "13543                    False                  False   \n",
      "13544                    False                  False   \n",
      "13545                    False                  False   \n",
      "13546                    False                  False   \n",
      "\n",
      "       District_Name_VILLUPURAM  District_Name_VIRUDHUNAGAR  \n",
      "22                        False                       False  \n",
      "23                        False                       False  \n",
      "24                        False                       False  \n",
      "25                        False                       False  \n",
      "26                        False                       False  \n",
      "...                         ...                         ...  \n",
      "13542                     False                        True  \n",
      "13543                     False                        True  \n",
      "13544                     False                        True  \n",
      "13545                     False                        True  \n",
      "13546                     False                        True  \n",
      "\n",
      "[13266 rows x 37 columns]\n"
     ]
    }
   ],
   "source": [
    "dataset_encoded = pd.get_dummies(dataset, columns = ['District_Name'])\n",
    "print(dataset_encoded)\n"
   ]
  },
  {
   "cell_type": "code",
   "execution_count": 19,
   "id": "1f52cc34",
   "metadata": {},
   "outputs": [],
   "source": [
    "dataset['District_Name']=dataset_encoded['District_Name_ARIYALUR']+dataset_encoded['District_Name_COIMBATORE']+dataset_encoded['District_Name_CUDDALORE']+dataset_encoded['District_Name_DHARMAPURI']+dataset_encoded['District_Name_DINDIGUL']+dataset_encoded['District_Name_ERODE']+dataset_encoded['District_Name_KANCHIPURAM']+dataset_encoded['District_Name_KANNIYAKUMARI']+dataset_encoded['District_Name_KARUR']+dataset_encoded['District_Name_KRISHNAGIRI']+dataset_encoded['District_Name_MADURAI']+dataset_encoded['District_Name_NAGAPATTINAM']+dataset_encoded['District_Name_NAMAKKAL']+dataset_encoded['District_Name_PERAMBALUR']+dataset_encoded['District_Name_PUDUKKOTTAI']+dataset_encoded['District_Name_RAMANATHAPURAM']+dataset_encoded['District_Name_SALEM']+dataset_encoded['District_Name_SIVAGANGA']+dataset_encoded['District_Name_THANJAVUR']+dataset_encoded['District_Name_THE NILGIRIS']+dataset_encoded['District_Name_THENI']+dataset_encoded['District_Name_THIRUVALLUR']+dataset_encoded['District_Name_THIRUVARUR']+dataset_encoded['District_Name_TIRUCHIRAPPALLI']+dataset_encoded['District_Name_TIRUNELVELI']+dataset_encoded['District_Name_TIRUPPUR']+dataset_encoded['District_Name_TIRUVANNAMALAI']+dataset_encoded['District_Name_TUTICORIN']+dataset_encoded['District_Name_VELLORE']+dataset_encoded['District_Name_VILLUPURAM']+dataset_encoded['District_Name_VIRUDHUNAGAR']"
   ]
  },
  {
   "cell_type": "code",
   "execution_count": 20,
   "id": "8000c9a4",
   "metadata": {},
   "outputs": [
    {
     "name": "stdout",
     "output_type": "stream",
     "text": [
      "       State_Name  District_Name  Crop_Year       Season   Area  Production  \\\n",
      "22     Tamil Nadu           True       2009  Kharif       25978     80462.0   \n",
      "23     Tamil Nadu           True       2009  Kharif         404       649.0   \n",
      "24     Tamil Nadu           True       2009  Whole Year     160       122.0   \n",
      "25     Tamil Nadu           True       2009  Whole Year     644      1082.0   \n",
      "26     Tamil Nadu           True       2009  Whole Year     134      5761.0   \n",
      "...           ...            ...        ...          ...    ...         ...   \n",
      "13542  Tamil Nadu           True       2013  Whole Year    1187       676.0   \n",
      "13543  Tamil Nadu           True       2013  Whole Year    2917    296017.0   \n",
      "13544  Tamil Nadu           True       2013  Whole Year       4        84.0   \n",
      "13545  Tamil Nadu           True       2013  Whole Year       4       120.0   \n",
      "13546  Tamil Nadu           True       2013  Whole Year       4        15.0   \n",
      "\n",
      "       Crop_Apple  Crop_Arecanut  Crop_Arhar/Tur  Crop_Ash Gourd  ...  \\\n",
      "22          False          False           False           False  ...   \n",
      "23          False          False           False           False  ...   \n",
      "24          False          False            True           False  ...   \n",
      "25          False          False           False           False  ...   \n",
      "26          False          False           False           False  ...   \n",
      "...           ...            ...             ...             ...  ...   \n",
      "13542       False          False           False           False  ...   \n",
      "13543       False          False           False           False  ...   \n",
      "13544       False          False           False           False  ...   \n",
      "13545       False          False           False           False  ...   \n",
      "13546       False          False           False           False  ...   \n",
      "\n",
      "       Crop_Tobacco  Crop_Tomato  Crop_Total foodgrain  Crop_Turmeric  \\\n",
      "22            False        False                 False          False   \n",
      "23            False        False                 False          False   \n",
      "24            False        False                 False          False   \n",
      "25            False        False                 False          False   \n",
      "26            False        False                 False          False   \n",
      "...             ...          ...                   ...            ...   \n",
      "13542         False        False                 False          False   \n",
      "13543         False        False                 False          False   \n",
      "13544         False        False                 False          False   \n",
      "13545         False        False                 False          False   \n",
      "13546         False        False                 False           True   \n",
      "\n",
      "       Crop_Turnip  Crop_Urad  Crop_Varagu  Crop_Water Melon  Crop_Wheat  \\\n",
      "22           False      False        False             False       False   \n",
      "23           False      False        False             False       False   \n",
      "24           False      False        False             False       False   \n",
      "25           False      False        False             False       False   \n",
      "26           False      False        False             False       False   \n",
      "...            ...        ...          ...               ...         ...   \n",
      "13542        False      False        False             False       False   \n",
      "13543        False      False        False             False       False   \n",
      "13544        False      False        False             False       False   \n",
      "13545        False      False        False             False       False   \n",
      "13546        False      False        False             False       False   \n",
      "\n",
      "       Crop_Yam  \n",
      "22        False  \n",
      "23        False  \n",
      "24        False  \n",
      "25        False  \n",
      "26        False  \n",
      "...         ...  \n",
      "13542     False  \n",
      "13543     False  \n",
      "13544     False  \n",
      "13545     False  \n",
      "13546     False  \n",
      "\n",
      "[13266 rows x 90 columns]\n"
     ]
    }
   ],
   "source": [
    "one_hot_encoded_data = pd.get_dummies(dataset, columns = ['Crop'])\n",
    "print(one_hot_encoded_data)\n"
   ]
  },
  {
   "cell_type": "code",
   "execution_count": 21,
   "id": "62c6f14b",
   "metadata": {},
   "outputs": [],
   "source": [
    "dataset['Crop']=one_hot_encoded_data['Crop_Rice']+one_hot_encoded_data['Crop_Small millets']+one_hot_encoded_data['Crop_Arhar/Tur']+one_hot_encoded_data['Crop_Bajra']+one_hot_encoded_data['Crop_Banana']+one_hot_encoded_data['Crop_Cashewnut']+one_hot_encoded_data['Crop_Castor seed']+one_hot_encoded_data['Crop_Coconut ']+one_hot_encoded_data['Crop_Coriander']+one_hot_encoded_data['Crop_Cotton(lint)']+one_hot_encoded_data['Crop_Dry chillies']+one_hot_encoded_data['Crop_Groundnut']+one_hot_encoded_data['Crop_Jowar']+one_hot_encoded_data['Crop_Maize']+one_hot_encoded_data['Crop_Moong(Green Gram)']+one_hot_encoded_data['Crop_Onion']+one_hot_encoded_data['Crop_Ragi']+one_hot_encoded_data['Crop_Sesamum']+one_hot_encoded_data['Crop_Sugarcane']+one_hot_encoded_data['Crop_Sunflower']+one_hot_encoded_data['Crop_Sweet potato']+one_hot_encoded_data['Crop_Tapioca']+one_hot_encoded_data['Crop_Turmeric']+one_hot_encoded_data['Crop_Urad']+one_hot_encoded_data['Crop_Horse-gram']+one_hot_encoded_data['Crop_Tobacco']+one_hot_encoded_data['Crop_Black pepper']+one_hot_encoded_data['Crop_Cardamom']+one_hot_encoded_data['Crop_Gram']+one_hot_encoded_data['Crop_Pulses total']+one_hot_encoded_data['Crop_Total foodgrain']+one_hot_encoded_data['Crop_Wheat']+one_hot_encoded_data['Crop_Sannhamp']+one_hot_encoded_data['Crop_Korra']+one_hot_encoded_data['Crop_Samai']+one_hot_encoded_data['Crop_Guar seed']+one_hot_encoded_data['Crop_Other Cereals & Millets']+one_hot_encoded_data['Crop_Other Kharif pulses']+one_hot_encoded_data['Crop_Rapeseed &Mustard']+one_hot_encoded_data['Crop_Varagu']+one_hot_encoded_data['Crop_Ash Gourd']+one_hot_encoded_data['Crop_Beans & Mutter(Vegetable)']+one_hot_encoded_data['Crop_Beet Root']+one_hot_encoded_data['Crop_Bhindi']+one_hot_encoded_data['Crop_Bitter Gourd']+one_hot_encoded_data['Crop_Bottle Gourd']+one_hot_encoded_data['Crop_Brinjal']+one_hot_encoded_data['Crop_Cauliflower']+one_hot_encoded_data['Crop_Citrus Fruit']+one_hot_encoded_data['Crop_Cucumber']+one_hot_encoded_data['Crop_Drum Stick']+one_hot_encoded_data['Crop_Garlic']+one_hot_encoded_data['Crop_Grapes']+one_hot_encoded_data['Crop_Jack Fruit']+one_hot_encoded_data['Crop_Lab-Lab']+one_hot_encoded_data['Crop_Mango']+one_hot_encoded_data['Crop_Orange']+one_hot_encoded_data['Crop_Other Citrus Fruit']+one_hot_encoded_data['Crop_Other Fresh Fruits']+one_hot_encoded_data['Crop_Other Vegetables']+one_hot_encoded_data['Crop_Papaya']+one_hot_encoded_data['Crop_Pome Fruit']+one_hot_encoded_data['Crop_Pome Granet']+one_hot_encoded_data['Crop_Redish']+one_hot_encoded_data['Crop_Ribed Guard']+one_hot_encoded_data['Crop_Snak Guard']+one_hot_encoded_data['Crop_Tomato']+one_hot_encoded_data['Crop_Water Melon']+one_hot_encoded_data['Crop_Yam']+one_hot_encoded_data['Crop_Cabbage']+one_hot_encoded_data['Crop_Pump Kin']+one_hot_encoded_data['Crop_Dry ginger']+one_hot_encoded_data['Crop_Arecanut']+one_hot_encoded_data['Crop_Potato']+one_hot_encoded_data['Crop_Carrot']+one_hot_encoded_data['Crop_Pineapple']+one_hot_encoded_data['Crop_Mesta']+one_hot_encoded_data['Crop_Plums']+one_hot_encoded_data['Crop_Turnip']+one_hot_encoded_data['Crop_Pear']+one_hot_encoded_data['Crop_Ber']"
   ]
  },
  {
   "cell_type": "code",
   "execution_count": 22,
   "id": "b370d382",
   "metadata": {},
   "outputs": [
    {
     "name": "stdout",
     "output_type": "stream",
     "text": [
      "    State_Name  District_Name  Crop_Year  Crop   Area  Production  \\\n",
      "22  Tamil Nadu           True       2009  True  25978     80462.0   \n",
      "23  Tamil Nadu           True       2009  True    404       649.0   \n",
      "24  Tamil Nadu           True       2009  True    160       122.0   \n",
      "25  Tamil Nadu           True       2009  True    644      1082.0   \n",
      "26  Tamil Nadu           True       2009  True    134      5761.0   \n",
      "\n",
      "    Season_Kharif       Season_Rabi         Season_Whole Year   \n",
      "22                True               False               False  \n",
      "23                True               False               False  \n",
      "24               False               False                True  \n",
      "25               False               False                True  \n",
      "26               False               False                True  \n"
     ]
    }
   ],
   "source": [
    "one_hot_encoded_data = pd.get_dummies(dataset, columns = ['Season'])\n",
    "print(one_hot_encoded_data.head())\n"
   ]
  },
  {
   "cell_type": "code",
   "execution_count": 23,
   "id": "3364e652",
   "metadata": {},
   "outputs": [],
   "source": [
    "dataset['Season']=one_hot_encoded_data['Season_Kharif     ']+one_hot_encoded_data['Season_Rabi       ']+one_hot_encoded_data['Season_Whole Year ']"
   ]
  },
  {
   "cell_type": "code",
   "execution_count": 24,
   "id": "d30a6298",
   "metadata": {},
   "outputs": [],
   "source": [
    "dataset['Area']=data_log"
   ]
  },
  {
   "cell_type": "code",
   "execution_count": 25,
   "id": "069de177",
   "metadata": {},
   "outputs": [
    {
     "data": {
      "text/html": [
       "<div>\n",
       "<style scoped>\n",
       "    .dataframe tbody tr th:only-of-type {\n",
       "        vertical-align: middle;\n",
       "    }\n",
       "\n",
       "    .dataframe tbody tr th {\n",
       "        vertical-align: top;\n",
       "    }\n",
       "\n",
       "    .dataframe thead th {\n",
       "        text-align: right;\n",
       "    }\n",
       "</style>\n",
       "<table border=\"1\" class=\"dataframe\">\n",
       "  <thead>\n",
       "    <tr style=\"text-align: right;\">\n",
       "      <th></th>\n",
       "      <th>State_Name</th>\n",
       "      <th>District_Name</th>\n",
       "      <th>Crop_Year</th>\n",
       "      <th>Season</th>\n",
       "      <th>Crop</th>\n",
       "      <th>Area</th>\n",
       "      <th>Production</th>\n",
       "    </tr>\n",
       "  </thead>\n",
       "  <tbody>\n",
       "    <tr>\n",
       "      <th>22</th>\n",
       "      <td>Tamil Nadu</td>\n",
       "      <td>True</td>\n",
       "      <td>2009</td>\n",
       "      <td>True</td>\n",
       "      <td>True</td>\n",
       "      <td>10.165005</td>\n",
       "      <td>80462.0</td>\n",
       "    </tr>\n",
       "    <tr>\n",
       "      <th>23</th>\n",
       "      <td>Tamil Nadu</td>\n",
       "      <td>True</td>\n",
       "      <td>2009</td>\n",
       "      <td>True</td>\n",
       "      <td>True</td>\n",
       "      <td>6.001415</td>\n",
       "      <td>649.0</td>\n",
       "    </tr>\n",
       "    <tr>\n",
       "      <th>24</th>\n",
       "      <td>Tamil Nadu</td>\n",
       "      <td>True</td>\n",
       "      <td>2009</td>\n",
       "      <td>True</td>\n",
       "      <td>True</td>\n",
       "      <td>5.075174</td>\n",
       "      <td>122.0</td>\n",
       "    </tr>\n",
       "    <tr>\n",
       "      <th>25</th>\n",
       "      <td>Tamil Nadu</td>\n",
       "      <td>True</td>\n",
       "      <td>2009</td>\n",
       "      <td>True</td>\n",
       "      <td>True</td>\n",
       "      <td>6.467699</td>\n",
       "      <td>1082.0</td>\n",
       "    </tr>\n",
       "    <tr>\n",
       "      <th>26</th>\n",
       "      <td>Tamil Nadu</td>\n",
       "      <td>True</td>\n",
       "      <td>2009</td>\n",
       "      <td>True</td>\n",
       "      <td>True</td>\n",
       "      <td>4.897840</td>\n",
       "      <td>5761.0</td>\n",
       "    </tr>\n",
       "    <tr>\n",
       "      <th>...</th>\n",
       "      <td>...</td>\n",
       "      <td>...</td>\n",
       "      <td>...</td>\n",
       "      <td>...</td>\n",
       "      <td>...</td>\n",
       "      <td>...</td>\n",
       "      <td>...</td>\n",
       "    </tr>\n",
       "    <tr>\n",
       "      <th>13542</th>\n",
       "      <td>Tamil Nadu</td>\n",
       "      <td>True</td>\n",
       "      <td>2013</td>\n",
       "      <td>True</td>\n",
       "      <td>True</td>\n",
       "      <td>7.079184</td>\n",
       "      <td>676.0</td>\n",
       "    </tr>\n",
       "    <tr>\n",
       "      <th>13543</th>\n",
       "      <td>Tamil Nadu</td>\n",
       "      <td>True</td>\n",
       "      <td>2013</td>\n",
       "      <td>True</td>\n",
       "      <td>True</td>\n",
       "      <td>7.978311</td>\n",
       "      <td>296017.0</td>\n",
       "    </tr>\n",
       "    <tr>\n",
       "      <th>13544</th>\n",
       "      <td>Tamil Nadu</td>\n",
       "      <td>True</td>\n",
       "      <td>2013</td>\n",
       "      <td>True</td>\n",
       "      <td>True</td>\n",
       "      <td>1.386294</td>\n",
       "      <td>84.0</td>\n",
       "    </tr>\n",
       "    <tr>\n",
       "      <th>13545</th>\n",
       "      <td>Tamil Nadu</td>\n",
       "      <td>True</td>\n",
       "      <td>2013</td>\n",
       "      <td>True</td>\n",
       "      <td>True</td>\n",
       "      <td>1.386294</td>\n",
       "      <td>120.0</td>\n",
       "    </tr>\n",
       "    <tr>\n",
       "      <th>13546</th>\n",
       "      <td>Tamil Nadu</td>\n",
       "      <td>True</td>\n",
       "      <td>2013</td>\n",
       "      <td>True</td>\n",
       "      <td>True</td>\n",
       "      <td>1.386294</td>\n",
       "      <td>15.0</td>\n",
       "    </tr>\n",
       "  </tbody>\n",
       "</table>\n",
       "<p>13266 rows × 7 columns</p>\n",
       "</div>"
      ],
      "text/plain": [
       "       State_Name  District_Name  Crop_Year  Season  Crop       Area  \\\n",
       "22     Tamil Nadu           True       2009    True  True  10.165005   \n",
       "23     Tamil Nadu           True       2009    True  True   6.001415   \n",
       "24     Tamil Nadu           True       2009    True  True   5.075174   \n",
       "25     Tamil Nadu           True       2009    True  True   6.467699   \n",
       "26     Tamil Nadu           True       2009    True  True   4.897840   \n",
       "...           ...            ...        ...     ...   ...        ...   \n",
       "13542  Tamil Nadu           True       2013    True  True   7.079184   \n",
       "13543  Tamil Nadu           True       2013    True  True   7.978311   \n",
       "13544  Tamil Nadu           True       2013    True  True   1.386294   \n",
       "13545  Tamil Nadu           True       2013    True  True   1.386294   \n",
       "13546  Tamil Nadu           True       2013    True  True   1.386294   \n",
       "\n",
       "       Production  \n",
       "22        80462.0  \n",
       "23          649.0  \n",
       "24          122.0  \n",
       "25         1082.0  \n",
       "26         5761.0  \n",
       "...           ...  \n",
       "13542       676.0  \n",
       "13543    296017.0  \n",
       "13544        84.0  \n",
       "13545       120.0  \n",
       "13546        15.0  \n",
       "\n",
       "[13266 rows x 7 columns]"
      ]
     },
     "execution_count": 25,
     "metadata": {},
     "output_type": "execute_result"
    }
   ],
   "source": [
    "dataset"
   ]
  },
  {
   "cell_type": "code",
   "execution_count": 26,
   "id": "74f3c00d",
   "metadata": {},
   "outputs": [],
   "source": [
    "#Training Testing of dataset"
   ]
  },
  {
   "cell_type": "code",
   "execution_count": 27,
   "id": "04ac021f",
   "metadata": {},
   "outputs": [],
   "source": [
    "from sklearn.model_selection import train_test_split"
   ]
  },
  {
   "cell_type": "code",
   "execution_count": 28,
   "id": "46590c59",
   "metadata": {},
   "outputs": [],
   "source": [
    "X=dataset.drop(labels=[\"State_Name\",\"Production\",\"Crop_Year\"],axis=1)"
   ]
  },
  {
   "cell_type": "code",
   "execution_count": 29,
   "id": "83b437c1",
   "metadata": {},
   "outputs": [
    {
     "data": {
      "text/html": [
       "<div>\n",
       "<style scoped>\n",
       "    .dataframe tbody tr th:only-of-type {\n",
       "        vertical-align: middle;\n",
       "    }\n",
       "\n",
       "    .dataframe tbody tr th {\n",
       "        vertical-align: top;\n",
       "    }\n",
       "\n",
       "    .dataframe thead th {\n",
       "        text-align: right;\n",
       "    }\n",
       "</style>\n",
       "<table border=\"1\" class=\"dataframe\">\n",
       "  <thead>\n",
       "    <tr style=\"text-align: right;\">\n",
       "      <th></th>\n",
       "      <th>District_Name</th>\n",
       "      <th>Season</th>\n",
       "      <th>Crop</th>\n",
       "      <th>Area</th>\n",
       "    </tr>\n",
       "  </thead>\n",
       "  <tbody>\n",
       "    <tr>\n",
       "      <th>22</th>\n",
       "      <td>True</td>\n",
       "      <td>True</td>\n",
       "      <td>True</td>\n",
       "      <td>10.165005</td>\n",
       "    </tr>\n",
       "    <tr>\n",
       "      <th>23</th>\n",
       "      <td>True</td>\n",
       "      <td>True</td>\n",
       "      <td>True</td>\n",
       "      <td>6.001415</td>\n",
       "    </tr>\n",
       "    <tr>\n",
       "      <th>24</th>\n",
       "      <td>True</td>\n",
       "      <td>True</td>\n",
       "      <td>True</td>\n",
       "      <td>5.075174</td>\n",
       "    </tr>\n",
       "    <tr>\n",
       "      <th>25</th>\n",
       "      <td>True</td>\n",
       "      <td>True</td>\n",
       "      <td>True</td>\n",
       "      <td>6.467699</td>\n",
       "    </tr>\n",
       "    <tr>\n",
       "      <th>26</th>\n",
       "      <td>True</td>\n",
       "      <td>True</td>\n",
       "      <td>True</td>\n",
       "      <td>4.897840</td>\n",
       "    </tr>\n",
       "    <tr>\n",
       "      <th>...</th>\n",
       "      <td>...</td>\n",
       "      <td>...</td>\n",
       "      <td>...</td>\n",
       "      <td>...</td>\n",
       "    </tr>\n",
       "    <tr>\n",
       "      <th>13542</th>\n",
       "      <td>True</td>\n",
       "      <td>True</td>\n",
       "      <td>True</td>\n",
       "      <td>7.079184</td>\n",
       "    </tr>\n",
       "    <tr>\n",
       "      <th>13543</th>\n",
       "      <td>True</td>\n",
       "      <td>True</td>\n",
       "      <td>True</td>\n",
       "      <td>7.978311</td>\n",
       "    </tr>\n",
       "    <tr>\n",
       "      <th>13544</th>\n",
       "      <td>True</td>\n",
       "      <td>True</td>\n",
       "      <td>True</td>\n",
       "      <td>1.386294</td>\n",
       "    </tr>\n",
       "    <tr>\n",
       "      <th>13545</th>\n",
       "      <td>True</td>\n",
       "      <td>True</td>\n",
       "      <td>True</td>\n",
       "      <td>1.386294</td>\n",
       "    </tr>\n",
       "    <tr>\n",
       "      <th>13546</th>\n",
       "      <td>True</td>\n",
       "      <td>True</td>\n",
       "      <td>True</td>\n",
       "      <td>1.386294</td>\n",
       "    </tr>\n",
       "  </tbody>\n",
       "</table>\n",
       "<p>13266 rows × 4 columns</p>\n",
       "</div>"
      ],
      "text/plain": [
       "       District_Name  Season  Crop       Area\n",
       "22              True    True  True  10.165005\n",
       "23              True    True  True   6.001415\n",
       "24              True    True  True   5.075174\n",
       "25              True    True  True   6.467699\n",
       "26              True    True  True   4.897840\n",
       "...              ...     ...   ...        ...\n",
       "13542           True    True  True   7.079184\n",
       "13543           True    True  True   7.978311\n",
       "13544           True    True  True   1.386294\n",
       "13545           True    True  True   1.386294\n",
       "13546           True    True  True   1.386294\n",
       "\n",
       "[13266 rows x 4 columns]"
      ]
     },
     "execution_count": 29,
     "metadata": {},
     "output_type": "execute_result"
    }
   ],
   "source": [
    "X"
   ]
  },
  {
   "cell_type": "code",
   "execution_count": 30,
   "id": "a1685a25",
   "metadata": {},
   "outputs": [],
   "source": [
    "Y=dataset['Production']"
   ]
  },
  {
   "cell_type": "code",
   "execution_count": null,
   "id": "ee868db6",
   "metadata": {},
   "outputs": [],
   "source": []
  },
  {
   "cell_type": "code",
   "execution_count": 31,
   "id": "a2419167",
   "metadata": {},
   "outputs": [],
   "source": [
    "X_train,X_test,Y_train,Y_test=train_test_split(X,Y,test_size=0.33,random_state=42)"
   ]
  },
  {
   "cell_type": "code",
   "execution_count": 32,
   "id": "76e66462",
   "metadata": {},
   "outputs": [
    {
     "name": "stdout",
     "output_type": "stream",
     "text": [
      "X_train : (8888, 4)\n",
      "X_test : (4378, 4)\n",
      "Y_train : (8888,)\n",
      "Y_test : (4378,)\n"
     ]
    }
   ],
   "source": [
    "print(\"X_train :\",X_train.shape)\n",
    "print(\"X_test :\",X_test.shape)\n",
    "print(\"Y_train :\",Y_train.shape)\n",
    "print(\"Y_test :\",Y_test.shape)\n"
   ]
  },
  {
   "cell_type": "code",
   "execution_count": 33,
   "id": "15caeea8",
   "metadata": {},
   "outputs": [],
   "source": [
    "#Fitting the Model"
   ]
  },
  {
   "cell_type": "code",
   "execution_count": 34,
   "id": "89924ea9",
   "metadata": {},
   "outputs": [],
   "source": [
    "#Multiple Linear Regression"
   ]
  },
  {
   "cell_type": "code",
   "execution_count": 35,
   "id": "8a34411d",
   "metadata": {},
   "outputs": [],
   "source": [
    "from sklearn.linear_model import LinearRegression"
   ]
  },
  {
   "cell_type": "code",
   "execution_count": 36,
   "id": "a61f3d6a",
   "metadata": {},
   "outputs": [
    {
     "data": {
      "text/html": [
       "<style>#sk-container-id-1 {color: black;}#sk-container-id-1 pre{padding: 0;}#sk-container-id-1 div.sk-toggleable {background-color: white;}#sk-container-id-1 label.sk-toggleable__label {cursor: pointer;display: block;width: 100%;margin-bottom: 0;padding: 0.3em;box-sizing: border-box;text-align: center;}#sk-container-id-1 label.sk-toggleable__label-arrow:before {content: \"▸\";float: left;margin-right: 0.25em;color: #696969;}#sk-container-id-1 label.sk-toggleable__label-arrow:hover:before {color: black;}#sk-container-id-1 div.sk-estimator:hover label.sk-toggleable__label-arrow:before {color: black;}#sk-container-id-1 div.sk-toggleable__content {max-height: 0;max-width: 0;overflow: hidden;text-align: left;background-color: #f0f8ff;}#sk-container-id-1 div.sk-toggleable__content pre {margin: 0.2em;color: black;border-radius: 0.25em;background-color: #f0f8ff;}#sk-container-id-1 input.sk-toggleable__control:checked~div.sk-toggleable__content {max-height: 200px;max-width: 100%;overflow: auto;}#sk-container-id-1 input.sk-toggleable__control:checked~label.sk-toggleable__label-arrow:before {content: \"▾\";}#sk-container-id-1 div.sk-estimator input.sk-toggleable__control:checked~label.sk-toggleable__label {background-color: #d4ebff;}#sk-container-id-1 div.sk-label input.sk-toggleable__control:checked~label.sk-toggleable__label {background-color: #d4ebff;}#sk-container-id-1 input.sk-hidden--visually {border: 0;clip: rect(1px 1px 1px 1px);clip: rect(1px, 1px, 1px, 1px);height: 1px;margin: -1px;overflow: hidden;padding: 0;position: absolute;width: 1px;}#sk-container-id-1 div.sk-estimator {font-family: monospace;background-color: #f0f8ff;border: 1px dotted black;border-radius: 0.25em;box-sizing: border-box;margin-bottom: 0.5em;}#sk-container-id-1 div.sk-estimator:hover {background-color: #d4ebff;}#sk-container-id-1 div.sk-parallel-item::after {content: \"\";width: 100%;border-bottom: 1px solid gray;flex-grow: 1;}#sk-container-id-1 div.sk-label:hover label.sk-toggleable__label {background-color: #d4ebff;}#sk-container-id-1 div.sk-serial::before {content: \"\";position: absolute;border-left: 1px solid gray;box-sizing: border-box;top: 0;bottom: 0;left: 50%;z-index: 0;}#sk-container-id-1 div.sk-serial {display: flex;flex-direction: column;align-items: center;background-color: white;padding-right: 0.2em;padding-left: 0.2em;position: relative;}#sk-container-id-1 div.sk-item {position: relative;z-index: 1;}#sk-container-id-1 div.sk-parallel {display: flex;align-items: stretch;justify-content: center;background-color: white;position: relative;}#sk-container-id-1 div.sk-item::before, #sk-container-id-1 div.sk-parallel-item::before {content: \"\";position: absolute;border-left: 1px solid gray;box-sizing: border-box;top: 0;bottom: 0;left: 50%;z-index: -1;}#sk-container-id-1 div.sk-parallel-item {display: flex;flex-direction: column;z-index: 1;position: relative;background-color: white;}#sk-container-id-1 div.sk-parallel-item:first-child::after {align-self: flex-end;width: 50%;}#sk-container-id-1 div.sk-parallel-item:last-child::after {align-self: flex-start;width: 50%;}#sk-container-id-1 div.sk-parallel-item:only-child::after {width: 0;}#sk-container-id-1 div.sk-dashed-wrapped {border: 1px dashed gray;margin: 0 0.4em 0.5em 0.4em;box-sizing: border-box;padding-bottom: 0.4em;background-color: white;}#sk-container-id-1 div.sk-label label {font-family: monospace;font-weight: bold;display: inline-block;line-height: 1.2em;}#sk-container-id-1 div.sk-label-container {text-align: center;}#sk-container-id-1 div.sk-container {/* jupyter's `normalize.less` sets `[hidden] { display: none; }` but bootstrap.min.css set `[hidden] { display: none !important; }` so we also need the `!important` here to be able to override the default hidden behavior on the sphinx rendered scikit-learn.org. See: https://github.com/scikit-learn/scikit-learn/issues/21755 */display: inline-block !important;position: relative;}#sk-container-id-1 div.sk-text-repr-fallback {display: none;}</style><div id=\"sk-container-id-1\" class=\"sk-top-container\"><div class=\"sk-text-repr-fallback\"><pre>LinearRegression()</pre><b>In a Jupyter environment, please rerun this cell to show the HTML representation or trust the notebook. <br />On GitHub, the HTML representation is unable to render, please try loading this page with nbviewer.org.</b></div><div class=\"sk-container\" hidden><div class=\"sk-item\"><div class=\"sk-estimator sk-toggleable\"><input class=\"sk-toggleable__control sk-hidden--visually\" id=\"sk-estimator-id-1\" type=\"checkbox\" checked><label for=\"sk-estimator-id-1\" class=\"sk-toggleable__label sk-toggleable__label-arrow\">LinearRegression</label><div class=\"sk-toggleable__content\"><pre>LinearRegression()</pre></div></div></div></div></div>"
      ],
      "text/plain": [
       "LinearRegression()"
      ]
     },
     "execution_count": 36,
     "metadata": {},
     "output_type": "execute_result"
    }
   ],
   "source": [
    "regressor=LinearRegression()\n",
    "regressor.fit(X_train,Y_train)"
   ]
  },
  {
   "cell_type": "code",
   "execution_count": 37,
   "id": "9224d739",
   "metadata": {},
   "outputs": [
    {
     "data": {
      "text/plain": [
       "array([ 0.00000000e+00,  7.56699592e-10, -1.10837347e+06,  4.01001959e+05])"
      ]
     },
     "execution_count": 37,
     "metadata": {},
     "output_type": "execute_result"
    }
   ],
   "source": [
    "regressor.coef_"
   ]
  },
  {
   "cell_type": "code",
   "execution_count": 38,
   "id": "a5fab912",
   "metadata": {},
   "outputs": [],
   "source": [
    "Y_predict=regressor.predict(X_test)"
   ]
  },
  {
   "cell_type": "code",
   "execution_count": 39,
   "id": "1a83d184",
   "metadata": {},
   "outputs": [
    {
     "data": {
      "text/plain": [
       "array([  48617.84153234, -270958.25309005, 2485686.55408745, ...,\n",
       "       2829379.69545269, -779633.779198  , 2600107.18446573])"
      ]
     },
     "execution_count": 39,
     "metadata": {},
     "output_type": "execute_result"
    }
   ],
   "source": [
    "Y_predict"
   ]
  },
  {
   "cell_type": "code",
   "execution_count": 40,
   "id": "a1aebbb8",
   "metadata": {},
   "outputs": [],
   "source": [
    "from sklearn.metrics import r2_score"
   ]
  },
  {
   "cell_type": "code",
   "execution_count": 41,
   "id": "9871804d",
   "metadata": {},
   "outputs": [
    {
     "data": {
      "text/plain": [
       "0.004171442885507748"
      ]
     },
     "execution_count": 41,
     "metadata": {},
     "output_type": "execute_result"
    }
   ],
   "source": [
    "r2_score(Y_test,Y_predict)"
   ]
  },
  {
   "cell_type": "code",
   "execution_count": 42,
   "id": "9ee1a5f9",
   "metadata": {},
   "outputs": [],
   "source": [
    "import sklearn.metrics as metrics"
   ]
  },
  {
   "cell_type": "code",
   "execution_count": 43,
   "id": "7e345599",
   "metadata": {},
   "outputs": [
    {
     "name": "stdout",
     "output_type": "stream",
     "text": [
      "Mean Absolute Error is: 2133294.1433464857\n",
      "Mean Squared Error is: 454272385992085.9\n",
      "Root Mean Squared Error is: 21313666.64823502\n"
     ]
    }
   ],
   "source": [
    "print(\"Mean Absolute Error is:\",metrics.mean_absolute_error(Y_test,Y_predict))\n",
    "print(\"Mean Squared Error is:\",metrics.mean_squared_error(Y_test,Y_predict))\n",
    "print(\"Root Mean Squared Error is:\",np.sqrt(metrics.mean_squared_error(Y_test,Y_predict)))"
   ]
  },
  {
   "cell_type": "code",
   "execution_count": 44,
   "id": "2e7aef7f",
   "metadata": {},
   "outputs": [],
   "source": [
    "#2.Random Forest Regressor"
   ]
  },
  {
   "cell_type": "code",
   "execution_count": 45,
   "id": "1fb03b39",
   "metadata": {},
   "outputs": [],
   "source": [
    "from sklearn.ensemble import RandomForestRegressor\n"
   ]
  },
  {
   "cell_type": "code",
   "execution_count": 46,
   "id": "6c474688",
   "metadata": {},
   "outputs": [],
   "source": [
    "model=RandomForestRegressor()"
   ]
  },
  {
   "cell_type": "code",
   "execution_count": 47,
   "id": "14b6837e",
   "metadata": {},
   "outputs": [
    {
     "data": {
      "text/html": [
       "<style>#sk-container-id-2 {color: black;}#sk-container-id-2 pre{padding: 0;}#sk-container-id-2 div.sk-toggleable {background-color: white;}#sk-container-id-2 label.sk-toggleable__label {cursor: pointer;display: block;width: 100%;margin-bottom: 0;padding: 0.3em;box-sizing: border-box;text-align: center;}#sk-container-id-2 label.sk-toggleable__label-arrow:before {content: \"▸\";float: left;margin-right: 0.25em;color: #696969;}#sk-container-id-2 label.sk-toggleable__label-arrow:hover:before {color: black;}#sk-container-id-2 div.sk-estimator:hover label.sk-toggleable__label-arrow:before {color: black;}#sk-container-id-2 div.sk-toggleable__content {max-height: 0;max-width: 0;overflow: hidden;text-align: left;background-color: #f0f8ff;}#sk-container-id-2 div.sk-toggleable__content pre {margin: 0.2em;color: black;border-radius: 0.25em;background-color: #f0f8ff;}#sk-container-id-2 input.sk-toggleable__control:checked~div.sk-toggleable__content {max-height: 200px;max-width: 100%;overflow: auto;}#sk-container-id-2 input.sk-toggleable__control:checked~label.sk-toggleable__label-arrow:before {content: \"▾\";}#sk-container-id-2 div.sk-estimator input.sk-toggleable__control:checked~label.sk-toggleable__label {background-color: #d4ebff;}#sk-container-id-2 div.sk-label input.sk-toggleable__control:checked~label.sk-toggleable__label {background-color: #d4ebff;}#sk-container-id-2 input.sk-hidden--visually {border: 0;clip: rect(1px 1px 1px 1px);clip: rect(1px, 1px, 1px, 1px);height: 1px;margin: -1px;overflow: hidden;padding: 0;position: absolute;width: 1px;}#sk-container-id-2 div.sk-estimator {font-family: monospace;background-color: #f0f8ff;border: 1px dotted black;border-radius: 0.25em;box-sizing: border-box;margin-bottom: 0.5em;}#sk-container-id-2 div.sk-estimator:hover {background-color: #d4ebff;}#sk-container-id-2 div.sk-parallel-item::after {content: \"\";width: 100%;border-bottom: 1px solid gray;flex-grow: 1;}#sk-container-id-2 div.sk-label:hover label.sk-toggleable__label {background-color: #d4ebff;}#sk-container-id-2 div.sk-serial::before {content: \"\";position: absolute;border-left: 1px solid gray;box-sizing: border-box;top: 0;bottom: 0;left: 50%;z-index: 0;}#sk-container-id-2 div.sk-serial {display: flex;flex-direction: column;align-items: center;background-color: white;padding-right: 0.2em;padding-left: 0.2em;position: relative;}#sk-container-id-2 div.sk-item {position: relative;z-index: 1;}#sk-container-id-2 div.sk-parallel {display: flex;align-items: stretch;justify-content: center;background-color: white;position: relative;}#sk-container-id-2 div.sk-item::before, #sk-container-id-2 div.sk-parallel-item::before {content: \"\";position: absolute;border-left: 1px solid gray;box-sizing: border-box;top: 0;bottom: 0;left: 50%;z-index: -1;}#sk-container-id-2 div.sk-parallel-item {display: flex;flex-direction: column;z-index: 1;position: relative;background-color: white;}#sk-container-id-2 div.sk-parallel-item:first-child::after {align-self: flex-end;width: 50%;}#sk-container-id-2 div.sk-parallel-item:last-child::after {align-self: flex-start;width: 50%;}#sk-container-id-2 div.sk-parallel-item:only-child::after {width: 0;}#sk-container-id-2 div.sk-dashed-wrapped {border: 1px dashed gray;margin: 0 0.4em 0.5em 0.4em;box-sizing: border-box;padding-bottom: 0.4em;background-color: white;}#sk-container-id-2 div.sk-label label {font-family: monospace;font-weight: bold;display: inline-block;line-height: 1.2em;}#sk-container-id-2 div.sk-label-container {text-align: center;}#sk-container-id-2 div.sk-container {/* jupyter's `normalize.less` sets `[hidden] { display: none; }` but bootstrap.min.css set `[hidden] { display: none !important; }` so we also need the `!important` here to be able to override the default hidden behavior on the sphinx rendered scikit-learn.org. See: https://github.com/scikit-learn/scikit-learn/issues/21755 */display: inline-block !important;position: relative;}#sk-container-id-2 div.sk-text-repr-fallback {display: none;}</style><div id=\"sk-container-id-2\" class=\"sk-top-container\"><div class=\"sk-text-repr-fallback\"><pre>RandomForestRegressor()</pre><b>In a Jupyter environment, please rerun this cell to show the HTML representation or trust the notebook. <br />On GitHub, the HTML representation is unable to render, please try loading this page with nbviewer.org.</b></div><div class=\"sk-container\" hidden><div class=\"sk-item\"><div class=\"sk-estimator sk-toggleable\"><input class=\"sk-toggleable__control sk-hidden--visually\" id=\"sk-estimator-id-2\" type=\"checkbox\" checked><label for=\"sk-estimator-id-2\" class=\"sk-toggleable__label sk-toggleable__label-arrow\">RandomForestRegressor</label><div class=\"sk-toggleable__content\"><pre>RandomForestRegressor()</pre></div></div></div></div></div>"
      ],
      "text/plain": [
       "RandomForestRegressor()"
      ]
     },
     "execution_count": 47,
     "metadata": {},
     "output_type": "execute_result"
    }
   ],
   "source": [
    "model.fit(X_train,Y_train)"
   ]
  },
  {
   "cell_type": "code",
   "execution_count": 48,
   "id": "ac0d8c4f",
   "metadata": {},
   "outputs": [],
   "source": [
    "predict=model.predict(X_test)"
   ]
  },
  {
   "cell_type": "code",
   "execution_count": 49,
   "id": "23b385bd",
   "metadata": {},
   "outputs": [
    {
     "data": {
      "text/plain": [
       "array([4.86128983e+02, 1.50432527e+02, 5.88618540e+05, ...,\n",
       "       6.01331520e+05, 4.48307757e+01, 3.16383686e+06])"
      ]
     },
     "execution_count": 49,
     "metadata": {},
     "output_type": "execute_result"
    }
   ],
   "source": [
    "predict"
   ]
  },
  {
   "cell_type": "code",
   "execution_count": 50,
   "id": "643e638f",
   "metadata": {
    "scrolled": true
   },
   "outputs": [
    {
     "data": {
      "text/plain": [
       "-0.13194964278005616"
      ]
     },
     "execution_count": 50,
     "metadata": {},
     "output_type": "execute_result"
    }
   ],
   "source": [
    "r2_score(Y_test,predict)\n"
   ]
  },
  {
   "cell_type": "code",
   "execution_count": 51,
   "id": "6fe3c8ef",
   "metadata": {},
   "outputs": [],
   "source": [
    "from sklearn import metrics\n",
    "from sklearn import neighbors"
   ]
  },
  {
   "cell_type": "code",
   "execution_count": 52,
   "id": "cdb832d9",
   "metadata": {},
   "outputs": [
    {
     "name": "stdout",
     "output_type": "stream",
     "text": [
      "Mean Absolute Error is: 1687208.4618322563\n",
      "Mean Squared Error is: 516367462426030.1\n",
      "Root Mean Squared Error is: 22723720.259368405\n"
     ]
    }
   ],
   "source": [
    "print(\"Mean Absolute Error is:\",metrics.mean_absolute_error(Y_test,predict))\n",
    "print(\"Mean Squared Error is:\",metrics.mean_squared_error(Y_test,predict))\n",
    "print(\"Root Mean Squared Error is:\",np.sqrt(metrics.mean_squared_error(Y_test,predict)))\n"
   ]
  },
  {
   "cell_type": "code",
   "execution_count": 53,
   "id": "07cf74cf",
   "metadata": {},
   "outputs": [],
   "source": [
    "#KNN Regressor"
   ]
  },
  {
   "cell_type": "code",
   "execution_count": 54,
   "id": "00fe5b0c",
   "metadata": {},
   "outputs": [],
   "source": [
    "from sklearn.metrics import mean_squared_error"
   ]
  },
  {
   "cell_type": "code",
   "execution_count": 55,
   "id": "e18ec7f2",
   "metadata": {
    "scrolled": true
   },
   "outputs": [
    {
     "name": "stdout",
     "output_type": "stream",
     "text": [
      "RMSE value for k= 1 is: 22746267.986186776\n",
      "RMSE value for k= 2 is: 24493853.096449096\n",
      "RMSE value for k= 3 is: 24013397.072202887\n",
      "RMSE value for k= 4 is: 22942555.08578946\n",
      "RMSE value for k= 5 is: 23394878.926963463\n",
      "RMSE value for k= 6 is: 24002946.689982966\n",
      "RMSE value for k= 7 is: 24533170.923297778\n",
      "RMSE value for k= 8 is: 23877881.142726056\n",
      "RMSE value for k= 9 is: 23376966.72961181\n",
      "RMSE value for k= 10 is: 22991623.78619943\n",
      "RMSE value for k= 11 is: 22980478.232406527\n",
      "RMSE value for k= 12 is: 22737354.71400983\n",
      "RMSE value for k= 13 is: 22538311.21799812\n",
      "RMSE value for k= 14 is: 22384080.539600242\n",
      "RMSE value for k= 15 is: 22227625.189019427\n",
      "RMSE value for k= 16 is: 22161435.134761136\n",
      "RMSE value for k= 17 is: 22091974.18334812\n",
      "RMSE value for k= 18 is: 22015908.61297707\n",
      "RMSE value for k= 19 is: 21956757.12564487\n",
      "RMSE value for k= 20 is: 21900238.95352097\n",
      "RMSE value for k= 21 is: 21907341.327111136\n",
      "RMSE value for k= 22 is: 21895760.81751418\n",
      "RMSE value for k= 23 is: 21864813.407383863\n",
      "RMSE value for k= 24 is: 21869619.61208892\n",
      "RMSE value for k= 25 is: 21855346.502926975\n",
      "RMSE value for k= 26 is: 21856106.488694835\n",
      "RMSE value for k= 27 is: 21820206.625607558\n",
      "RMSE value for k= 28 is: 21813222.291413464\n",
      "RMSE value for k= 29 is: 21782943.66342337\n",
      "RMSE value for k= 30 is: 21756021.37661648\n",
      "RMSE value for k= 31 is: 21731761.303084437\n",
      "RMSE value for k= 32 is: 21703884.651490465\n",
      "RMSE value for k= 33 is: 21708421.702478047\n",
      "RMSE value for k= 34 is: 21709341.830585785\n",
      "RMSE value for k= 35 is: 21688907.965691693\n",
      "RMSE value for k= 36 is: 21729653.3703501\n",
      "RMSE value for k= 37 is: 21707370.28995509\n",
      "RMSE value for k= 38 is: 21689644.651779573\n",
      "RMSE value for k= 39 is: 21689451.775598872\n",
      "RMSE value for k= 40 is: 21672181.054127835\n",
      "RMSE value for k= 41 is: 21659262.352067698\n",
      "RMSE value for k= 42 is: 21645699.810646534\n",
      "RMSE value for k= 43 is: 21631985.798449475\n",
      "RMSE value for k= 44 is: 21633657.409590617\n",
      "RMSE value for k= 45 is: 21590912.67274622\n",
      "RMSE value for k= 46 is: 21585858.160788726\n",
      "RMSE value for k= 47 is: 21589813.407084886\n",
      "RMSE value for k= 48 is: 21597788.348427437\n",
      "RMSE value for k= 49 is: 21598881.952062566\n",
      "RMSE value for k= 50 is: 21592901.75837452\n"
     ]
    }
   ],
   "source": [
    "from numpy import sqrt \n",
    "rmse_value=[]\n",
    "for K in range(50):\n",
    "    K=K+1\n",
    "    model=neighbors.KNeighborsRegressor(n_neighbors=K)\n",
    "    model.fit(X_train,Y_train)\n",
    "    pred=model.predict(X_test)\n",
    "    error=sqrt(mean_squared_error(Y_test,pred))\n",
    "    rmse_value.append(error)\n",
    "    print('RMSE value for k=', K, 'is:',error)\n",
    "    "
   ]
  },
  {
   "cell_type": "raw",
   "id": "b7ea12c2",
   "metadata": {},
   "source": [
    "#Plotting the rmse value against the k values"
   ]
  },
  {
   "cell_type": "code",
   "execution_count": 56,
   "id": "b267b8e9",
   "metadata": {},
   "outputs": [],
   "source": [
    "curve=pd.DataFrame(rmse_value)"
   ]
  },
  {
   "cell_type": "code",
   "execution_count": 57,
   "id": "20d75454",
   "metadata": {},
   "outputs": [
    {
     "data": {
      "text/plain": [
       "<Axes: >"
      ]
     },
     "execution_count": 57,
     "metadata": {},
     "output_type": "execute_result"
    },
    {
     "data": {
      "image/png": "[encoded data removed]",
      "text/plain": [
       "<Figure size 640x480 with 1 Axes>"
      ]
     },
     "metadata": {},
     "output_type": "display_data"
    }
   ],
   "source": [
    "curve.plot()"
   ]
  },
  {
   "cell_type": "code",
   "execution_count": 58,
   "id": "5b9bacc0",
   "metadata": {},
   "outputs": [],
   "source": [
    "from sklearn.neighbors import KNeighborsRegressor\n",
    "knn_model=KNeighborsRegressor(n_neighbors=50)"
   ]
  },
  {
   "cell_type": "code",
   "execution_count": 59,
   "id": "99d323be",
   "metadata": {},
   "outputs": [],
   "source": [
    "from sklearn.metrics import mean_squared_error\n",
    "from math import sqrt"
   ]
  },
  {
   "cell_type": "code",
   "execution_count": 60,
   "id": "31054553",
   "metadata": {},
   "outputs": [
    {
     "data": {
      "text/html": [
       "<style>#sk-container-id-3 {color: black;}#sk-container-id-3 pre{padding: 0;}#sk-container-id-3 div.sk-toggleable {background-color: white;}#sk-container-id-3 label.sk-toggleable__label {cursor: pointer;display: block;width: 100%;margin-bottom: 0;padding: 0.3em;box-sizing: border-box;text-align: center;}#sk-container-id-3 label.sk-toggleable__label-arrow:before {content: \"▸\";float: left;margin-right: 0.25em;color: #696969;}#sk-container-id-3 label.sk-toggleable__label-arrow:hover:before {color: black;}#sk-container-id-3 div.sk-estimator:hover label.sk-toggleable__label-arrow:before {color: black;}#sk-container-id-3 div.sk-toggleable__content {max-height: 0;max-width: 0;overflow: hidden;text-align: left;background-color: #f0f8ff;}#sk-container-id-3 div.sk-toggleable__content pre {margin: 0.2em;color: black;border-radius: 0.25em;background-color: #f0f8ff;}#sk-container-id-3 input.sk-toggleable__control:checked~div.sk-toggleable__content {max-height: 200px;max-width: 100%;overflow: auto;}#sk-container-id-3 input.sk-toggleable__control:checked~label.sk-toggleable__label-arrow:before {content: \"▾\";}#sk-container-id-3 div.sk-estimator input.sk-toggleable__control:checked~label.sk-toggleable__label {background-color: #d4ebff;}#sk-container-id-3 div.sk-label input.sk-toggleable__control:checked~label.sk-toggleable__label {background-color: #d4ebff;}#sk-container-id-3 input.sk-hidden--visually {border: 0;clip: rect(1px 1px 1px 1px);clip: rect(1px, 1px, 1px, 1px);height: 1px;margin: -1px;overflow: hidden;padding: 0;position: absolute;width: 1px;}#sk-container-id-3 div.sk-estimator {font-family: monospace;background-color: #f0f8ff;border: 1px dotted black;border-radius: 0.25em;box-sizing: border-box;margin-bottom: 0.5em;}#sk-container-id-3 div.sk-estimator:hover {background-color: #d4ebff;}#sk-container-id-3 div.sk-parallel-item::after {content: \"\";width: 100%;border-bottom: 1px solid gray;flex-grow: 1;}#sk-container-id-3 div.sk-label:hover label.sk-toggleable__label {background-color: #d4ebff;}#sk-container-id-3 div.sk-serial::before {content: \"\";position: absolute;border-left: 1px solid gray;box-sizing: border-box;top: 0;bottom: 0;left: 50%;z-index: 0;}#sk-container-id-3 div.sk-serial {display: flex;flex-direction: column;align-items: center;background-color: white;padding-right: 0.2em;padding-left: 0.2em;position: relative;}#sk-container-id-3 div.sk-item {position: relative;z-index: 1;}#sk-container-id-3 div.sk-parallel {display: flex;align-items: stretch;justify-content: center;background-color: white;position: relative;}#sk-container-id-3 div.sk-item::before, #sk-container-id-3 div.sk-parallel-item::before {content: \"\";position: absolute;border-left: 1px solid gray;box-sizing: border-box;top: 0;bottom: 0;left: 50%;z-index: -1;}#sk-container-id-3 div.sk-parallel-item {display: flex;flex-direction: column;z-index: 1;position: relative;background-color: white;}#sk-container-id-3 div.sk-parallel-item:first-child::after {align-self: flex-end;width: 50%;}#sk-container-id-3 div.sk-parallel-item:last-child::after {align-self: flex-start;width: 50%;}#sk-container-id-3 div.sk-parallel-item:only-child::after {width: 0;}#sk-container-id-3 div.sk-dashed-wrapped {border: 1px dashed gray;margin: 0 0.4em 0.5em 0.4em;box-sizing: border-box;padding-bottom: 0.4em;background-color: white;}#sk-container-id-3 div.sk-label label {font-family: monospace;font-weight: bold;display: inline-block;line-height: 1.2em;}#sk-container-id-3 div.sk-label-container {text-align: center;}#sk-container-id-3 div.sk-container {/* jupyter's `normalize.less` sets `[hidden] { display: none; }` but bootstrap.min.css set `[hidden] { display: none !important; }` so we also need the `!important` here to be able to override the default hidden behavior on the sphinx rendered scikit-learn.org. See: https://github.com/scikit-learn/scikit-learn/issues/21755 */display: inline-block !important;position: relative;}#sk-container-id-3 div.sk-text-repr-fallback {display: none;}</style><div id=\"sk-container-id-3\" class=\"sk-top-container\"><div class=\"sk-text-repr-fallback\"><pre>KNeighborsRegressor(n_neighbors=50)</pre><b>In a Jupyter environment, please rerun this cell to show the HTML representation or trust the notebook. <br />On GitHub, the HTML representation is unable to render, please try loading this page with nbviewer.org.</b></div><div class=\"sk-container\" hidden><div class=\"sk-item\"><div class=\"sk-estimator sk-toggleable\"><input class=\"sk-toggleable__control sk-hidden--visually\" id=\"sk-estimator-id-3\" type=\"checkbox\" checked><label for=\"sk-estimator-id-3\" class=\"sk-toggleable__label sk-toggleable__label-arrow\">KNeighborsRegressor</label><div class=\"sk-toggleable__content\"><pre>KNeighborsRegressor(n_neighbors=50)</pre></div></div></div></div></div>"
      ],
      "text/plain": [
       "KNeighborsRegressor(n_neighbors=50)"
      ]
     },
     "execution_count": 60,
     "metadata": {},
     "output_type": "execute_result"
    }
   ],
   "source": [
    "knn_model.fit(X_train,Y_train)"
   ]
  },
  {
   "cell_type": "code",
   "execution_count": 61,
   "id": "6ad2881d",
   "metadata": {},
   "outputs": [
    {
     "data": {
      "text/plain": [
       "20599740.44209673"
      ]
     },
     "execution_count": 61,
     "metadata": {},
     "output_type": "execute_result"
    }
   ],
   "source": [
    "train_preds=knn_model.predict(X_train)\n",
    "mse=mean_squared_error(Y_train,train_preds)\n",
    "rmse=sqrt(mse)\n",
    "rmse"
   ]
  },
  {
   "cell_type": "code",
   "execution_count": 62,
   "id": "0a35a9e5",
   "metadata": {},
   "outputs": [
    {
     "data": {
      "text/plain": [
       "21592901.75837452"
      ]
     },
     "execution_count": 62,
     "metadata": {},
     "output_type": "execute_result"
    }
   ],
   "source": [
    "test_preds=knn_model.predict(X_test)\n",
    "mse=mean_squared_error(Y_test,test_preds)\n",
    "rmse=sqrt(mse)\n",
    "rmse"
   ]
  },
  {
   "cell_type": "code",
   "execution_count": 63,
   "id": "a95ae078",
   "metadata": {},
   "outputs": [],
   "source": [
    "#Predicting the test dataset"
   ]
  },
  {
   "cell_type": "code",
   "execution_count": 64,
   "id": "8c496ee3",
   "metadata": {},
   "outputs": [],
   "source": [
    "predict1=model.predict(X_test)"
   ]
  },
  {
   "cell_type": "code",
   "execution_count": 65,
   "id": "21bfb794",
   "metadata": {},
   "outputs": [
    {
     "data": {
      "text/plain": [
       "array([3.02320000e+02, 1.52382600e+02, 3.85387382e+06, ...,\n",
       "       5.07666920e+05, 4.73000000e+01, 8.38837520e+05])"
      ]
     },
     "execution_count": 65,
     "metadata": {},
     "output_type": "execute_result"
    }
   ],
   "source": [
    "predict1"
   ]
  },
  {
   "cell_type": "code",
   "execution_count": 66,
   "id": "62ba0c8d",
   "metadata": {},
   "outputs": [
    {
     "name": "stdout",
     "output_type": "stream",
     "text": [
      "Mean Absolute Error is: 1707189.4163476473\n",
      "Mean Squared Error is: 466253406346813.4\n",
      "Root Mean Squared Error is: 21592901.75837452\n"
     ]
    }
   ],
   "source": [
    "print(\"Mean Absolute Error is:\",metrics.mean_absolute_error(Y_test,predict1))\n",
    "print(\"Mean Squared Error is:\",metrics.mean_squared_error(Y_test,predict1))\n",
    "print(\"Root Mean Squared Error is:\",np.sqrt(metrics.mean_squared_error(Y_test,predict1)))"
   ]
  },
  {
   "cell_type": "code",
   "execution_count": 67,
   "id": "d2a4d6fc",
   "metadata": {},
   "outputs": [],
   "source": [
    "from sklearn.metrics import mean_squared_error, r2_score"
   ]
  },
  {
   "cell_type": "code",
   "execution_count": 68,
   "id": "a9c540c5",
   "metadata": {},
   "outputs": [
    {
     "data": {
      "text/plain": [
       "-0.022092628144368742"
      ]
     },
     "execution_count": 68,
     "metadata": {},
     "output_type": "execute_result"
    }
   ],
   "source": [
    "r2_score(Y_test,predict1)\n"
   ]
  },
  {
   "cell_type": "code",
   "execution_count": 69,
   "id": "7e562ef7",
   "metadata": {},
   "outputs": [],
   "source": [
    "#Tuning And Optimization of KNN Algorithm"
   ]
  },
  {
   "cell_type": "code",
   "execution_count": 70,
   "id": "d1b0c5e0",
   "metadata": {},
   "outputs": [],
   "source": [
    "#GridsearchCV to find the best value of k"
   ]
  },
  {
   "cell_type": "code",
   "execution_count": 71,
   "id": "cce8d488",
   "metadata": {},
   "outputs": [],
   "source": [
    "from sklearn.model_selection import GridSearchCV\n",
    "from sklearn.neighbors import KNeighborsRegressor"
   ]
  },
  {
   "cell_type": "code",
   "execution_count": 72,
   "id": "8e8f39c1",
   "metadata": {},
   "outputs": [
    {
     "data": {
      "text/html": [
       "<style>#sk-container-id-4 {color: black;}#sk-container-id-4 pre{padding: 0;}#sk-container-id-4 div.sk-toggleable {background-color: white;}#sk-container-id-4 label.sk-toggleable__label {cursor: pointer;display: block;width: 100%;margin-bottom: 0;padding: 0.3em;box-sizing: border-box;text-align: center;}#sk-container-id-4 label.sk-toggleable__label-arrow:before {content: \"▸\";float: left;margin-right: 0.25em;color: #696969;}#sk-container-id-4 label.sk-toggleable__label-arrow:hover:before {color: black;}#sk-container-id-4 div.sk-estimator:hover label.sk-toggleable__label-arrow:before {color: black;}#sk-container-id-4 div.sk-toggleable__content {max-height: 0;max-width: 0;overflow: hidden;text-align: left;background-color: #f0f8ff;}#sk-container-id-4 div.sk-toggleable__content pre {margin: 0.2em;color: black;border-radius: 0.25em;background-color: #f0f8ff;}#sk-container-id-4 input.sk-toggleable__control:checked~div.sk-toggleable__content {max-height: 200px;max-width: 100%;overflow: auto;}#sk-container-id-4 input.sk-toggleable__control:checked~label.sk-toggleable__label-arrow:before {content: \"▾\";}#sk-container-id-4 div.sk-estimator input.sk-toggleable__control:checked~label.sk-toggleable__label {background-color: #d4ebff;}#sk-container-id-4 div.sk-label input.sk-toggleable__control:checked~label.sk-toggleable__label {background-color: #d4ebff;}#sk-container-id-4 input.sk-hidden--visually {border: 0;clip: rect(1px 1px 1px 1px);clip: rect(1px, 1px, 1px, 1px);height: 1px;margin: -1px;overflow: hidden;padding: 0;position: absolute;width: 1px;}#sk-container-id-4 div.sk-estimator {font-family: monospace;background-color: #f0f8ff;border: 1px dotted black;border-radius: 0.25em;box-sizing: border-box;margin-bottom: 0.5em;}#sk-container-id-4 div.sk-estimator:hover {background-color: #d4ebff;}#sk-container-id-4 div.sk-parallel-item::after {content: \"\";width: 100%;border-bottom: 1px solid gray;flex-grow: 1;}#sk-container-id-4 div.sk-label:hover label.sk-toggleable__label {background-color: #d4ebff;}#sk-container-id-4 div.sk-serial::before {content: \"\";position: absolute;border-left: 1px solid gray;box-sizing: border-box;top: 0;bottom: 0;left: 50%;z-index: 0;}#sk-container-id-4 div.sk-serial {display: flex;flex-direction: column;align-items: center;background-color: white;padding-right: 0.2em;padding-left: 0.2em;position: relative;}#sk-container-id-4 div.sk-item {position: relative;z-index: 1;}#sk-container-id-4 div.sk-parallel {display: flex;align-items: stretch;justify-content: center;background-color: white;position: relative;}#sk-container-id-4 div.sk-item::before, #sk-container-id-4 div.sk-parallel-item::before {content: \"\";position: absolute;border-left: 1px solid gray;box-sizing: border-box;top: 0;bottom: 0;left: 50%;z-index: -1;}#sk-container-id-4 div.sk-parallel-item {display: flex;flex-direction: column;z-index: 1;position: relative;background-color: white;}#sk-container-id-4 div.sk-parallel-item:first-child::after {align-self: flex-end;width: 50%;}#sk-container-id-4 div.sk-parallel-item:last-child::after {align-self: flex-start;width: 50%;}#sk-container-id-4 div.sk-parallel-item:only-child::after {width: 0;}#sk-container-id-4 div.sk-dashed-wrapped {border: 1px dashed gray;margin: 0 0.4em 0.5em 0.4em;box-sizing: border-box;padding-bottom: 0.4em;background-color: white;}#sk-container-id-4 div.sk-label label {font-family: monospace;font-weight: bold;display: inline-block;line-height: 1.2em;}#sk-container-id-4 div.sk-label-container {text-align: center;}#sk-container-id-4 div.sk-container {/* jupyter's `normalize.less` sets `[hidden] { display: none; }` but bootstrap.min.css set `[hidden] { display: none !important; }` so we also need the `!important` here to be able to override the default hidden behavior on the sphinx rendered scikit-learn.org. See: https://github.com/scikit-learn/scikit-learn/issues/21755 */display: inline-block !important;position: relative;}#sk-container-id-4 div.sk-text-repr-fallback {display: none;}</style><div id=\"sk-container-id-4\" class=\"sk-top-container\"><div class=\"sk-text-repr-fallback\"><pre>GridSearchCV(estimator=KNeighborsRegressor(),\n",
       "             param_grid={&#x27;n_neighbors&#x27;: range(1, 50)})</pre><b>In a Jupyter environment, please rerun this cell to show the HTML representation or trust the notebook. <br />On GitHub, the HTML representation is unable to render, please try loading this page with nbviewer.org.</b></div><div class=\"sk-container\" hidden><div class=\"sk-item sk-dashed-wrapped\"><div class=\"sk-label-container\"><div class=\"sk-label sk-toggleable\"><input class=\"sk-toggleable__control sk-hidden--visually\" id=\"sk-estimator-id-4\" type=\"checkbox\" ><label for=\"sk-estimator-id-4\" class=\"sk-toggleable__label sk-toggleable__label-arrow\">GridSearchCV</label><div class=\"sk-toggleable__content\"><pre>GridSearchCV(estimator=KNeighborsRegressor(),\n",
       "             param_grid={&#x27;n_neighbors&#x27;: range(1, 50)})</pre></div></div></div><div class=\"sk-parallel\"><div class=\"sk-parallel-item\"><div class=\"sk-item\"><div class=\"sk-label-container\"><div class=\"sk-label sk-toggleable\"><input class=\"sk-toggleable__control sk-hidden--visually\" id=\"sk-estimator-id-5\" type=\"checkbox\" ><label for=\"sk-estimator-id-5\" class=\"sk-toggleable__label sk-toggleable__label-arrow\">estimator: KNeighborsRegressor</label><div class=\"sk-toggleable__content\"><pre>KNeighborsRegressor()</pre></div></div></div><div class=\"sk-serial\"><div class=\"sk-item\"><div class=\"sk-estimator sk-toggleable\"><input class=\"sk-toggleable__control sk-hidden--visually\" id=\"sk-estimator-id-6\" type=\"checkbox\" ><label for=\"sk-estimator-id-6\" class=\"sk-toggleable__label sk-toggleable__label-arrow\">KNeighborsRegressor</label><div class=\"sk-toggleable__content\"><pre>KNeighborsRegressor()</pre></div></div></div></div></div></div></div></div></div></div>"
      ],
      "text/plain": [
       "GridSearchCV(estimator=KNeighborsRegressor(),\n",
       "             param_grid={'n_neighbors': range(1, 50)})"
      ]
     },
     "execution_count": 72,
     "metadata": {},
     "output_type": "execute_result"
    }
   ],
   "source": [
    "parameters={\"n_neighbors\":range(1,50)}\n",
    "gridsearch=GridSearchCV(KNeighborsRegressor(),parameters)\n",
    "gridsearch.fit(X_train,Y_train)"
   ]
  },
  {
   "cell_type": "code",
   "execution_count": 73,
   "id": "a0710e16",
   "metadata": {},
   "outputs": [
    {
     "name": "stdout",
     "output_type": "stream",
     "text": [
      "{'n_neighbors': 49}\n"
     ]
    }
   ],
   "source": [
    "print(gridsearch.best_params_)"
   ]
  },
  {
   "cell_type": "code",
   "execution_count": 74,
   "id": "b50ae615",
   "metadata": {},
   "outputs": [],
   "source": [
    "train_preds_grid=gridsearch.predict(X_train)\n",
    "train_mse=mean_squared_error(Y_train,train_preds_grid)\n",
    "train_rmse=sqrt(train_mse)\n",
    "test_pred_grid=gridsearch.predict(X_test)\n",
    "test_mse=mean_squared_error(Y_test,test_pred_grid)\n",
    "test_rmse=sqrt(test_mse)"
   ]
  },
  {
   "cell_type": "code",
   "execution_count": 75,
   "id": "8e9930cd",
   "metadata": {},
   "outputs": [],
   "source": [
    "train_mse=mean_squared_error(Y_train,train_preds_grid)\n",
    "test_mse=mean_squared_error(Y_test,test_pred_grid)\n",
    "train_rmse=sqrt(train_mse)\n",
    "test_rmse=sqrt(test_mse)"
   ]
  },
  {
   "cell_type": "code",
   "execution_count": 76,
   "id": "014f9a37",
   "metadata": {},
   "outputs": [
    {
     "name": "stdout",
     "output_type": "stream",
     "text": [
      "The Root Mean Squared Value for the training dataset is: 20599099.37477702\n"
     ]
    }
   ],
   "source": [
    "print(\"The Root Mean Squared Value for the training dataset is:\",train_rmse)"
   ]
  },
  {
   "cell_type": "code",
   "execution_count": 77,
   "id": "8ac90fee",
   "metadata": {},
   "outputs": [
    {
     "name": "stdout",
     "output_type": "stream",
     "text": [
      "The Root Mean Squared Value for the test dataset is: 21598881.952062566\n"
     ]
    }
   ],
   "source": [
    "print(\"The Root Mean Squared Value for the test dataset is:\",test_rmse)"
   ]
  },
  {
   "cell_type": "code",
   "execution_count": 78,
   "id": "82111434",
   "metadata": {},
   "outputs": [],
   "source": [
    "#Validation "
   ]
  },
  {
   "cell_type": "code",
   "execution_count": 79,
   "id": "53ae500f",
   "metadata": {},
   "outputs": [],
   "source": [
    "from sklearn.model_selection import KFold\n",
    "from sklearn.model_selection import cross_val_score\n",
    "from sklearn.linear_model import LinearRegression\n",
    "from numpy import mean\n",
    "from numpy import absolute"
   ]
  },
  {
   "cell_type": "code",
   "execution_count": 80,
   "id": "1e7cc1c2",
   "metadata": {},
   "outputs": [],
   "source": [
    "X_validation=dataset.drop(labels=[\"State_Name\",\"Production\",\"Crop_Year\"],axis=1)\n",
    "Y_validation=dataset['Production']"
   ]
  },
  {
   "cell_type": "code",
   "execution_count": 81,
   "id": "33e6123f",
   "metadata": {},
   "outputs": [],
   "source": [
    "cv = KFold(n_splits=10, random_state=1, shuffle=True)"
   ]
  },
  {
   "cell_type": "code",
   "execution_count": 82,
   "id": "6cd3ca7b",
   "metadata": {},
   "outputs": [],
   "source": [
    "model = LinearRegression()\n"
   ]
  },
  {
   "cell_type": "code",
   "execution_count": 83,
   "id": "8062abff",
   "metadata": {},
   "outputs": [],
   "source": [
    "scores = cross_val_score(model, X_validation, Y_validation, scoring='neg_mean_absolute_error',\n",
    "                         cv=cv, n_jobs=-1)"
   ]
  },
  {
   "cell_type": "code",
   "execution_count": 84,
   "id": "d84bb051",
   "metadata": {},
   "outputs": [
    {
     "data": {
      "text/plain": [
       "array([-1691022.60458345, -2067509.55543303, -2421453.15128453,\n",
       "       -2086065.01436534, -1583723.90753509, -2252423.00660585,\n",
       "       -2113485.69704791, -2387123.01564403, -1544352.59987057,\n",
       "       -2625778.20543063])"
      ]
     },
     "execution_count": 84,
     "metadata": {},
     "output_type": "execute_result"
    }
   ],
   "source": [
    "scores"
   ]
  },
  {
   "cell_type": "code",
   "execution_count": 85,
   "id": "1ed77c25",
   "metadata": {},
   "outputs": [
    {
     "data": {
      "text/plain": [
       "2077293.675780043"
      ]
     },
     "execution_count": 85,
     "metadata": {},
     "output_type": "execute_result"
    }
   ],
   "source": [
    "mean(absolute(scores))"
   ]
  },
  {
   "cell_type": "code",
   "execution_count": null,
   "id": "5d3b98b0",
   "metadata": {},
   "outputs": [],
   "source": []
  },
  {
   "cell_type": "code",
   "execution_count": null,
   "id": "68933612",
   "metadata": {},
   "outputs": [],
   "source": []
  }
 ],
 "metadata": {
  "kernelspec": {
   "display_name": "Python 3 (ipykernel)",
   "language": "python",
   "name": "python3"
  },
  "language_info": {
   "codemirror_mode": {
    "name": "ipython",
    "version": 3
   },
   "file_extension": ".py",
   "mimetype": "text/x-python",
   "name": "python",
   "nbconvert_exporter": "python",
   "pygments_lexer": "ipython3",
   "version": "3.9.6"
  }
 },
 "nbformat": 4,
 "nbformat_minor": 5
}
